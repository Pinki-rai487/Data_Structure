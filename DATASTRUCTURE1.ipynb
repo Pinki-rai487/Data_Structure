{
  "nbformat": 4,
  "nbformat_minor": 0,
  "metadata": {
    "colab": {
      "provenance": []
    },
    "kernelspec": {
      "name": "python3",
      "display_name": "Python 3"
    },
    "language_info": {
      "name": "python"
    }
  },
  "cells": [
    {
      "cell_type": "markdown",
      "source": [
        "# Data Types and Structures Questions"
      ],
      "metadata": {
        "id": "pMXMz_7r1Zvo"
      }
    },
    {
      "cell_type": "markdown",
      "source": [
        "1.What are data structures, and why are they important ?\n",
        "\n",
        "Ans> Data structure are ways of organizing and storing data so that it can be accessed and modified efficiently. common data structures are Strings, Lists, sets, Tuples.\n",
        "Therefore, it is important to understand how to structure data so algorithms can maintain, utilize, and iterate through data quickly. Data structures are the way we are able to store and retrieve data.\n",
        "\n"
      ],
      "metadata": {
        "id": "jey_jMRH1WKE"
      }
    },
    {
      "cell_type": "markdown",
      "source": [
        "2.Explain the difference between mutable and immutable data types with examples ?\n",
        "\n",
        "Ans> MUTABLE DATA TYPES:\n",
        "\n",
        "\n",
        "\n",
        "*   Data types in python where the value assigned to a variable can be changed.\n",
        "*   It can modify the collection of items in a List or Dictionary object. It is possible to add, delete, insert, and rearrange items in a list or dictionary. Hence, they are mutable objects.\n",
        "\n",
        "\n",
        "*   Examples: L = [1,2,3,4,5]\n",
        "              L[0] =2\n",
        "              L = [2,2,3,4,5]\n",
        "  \n",
        "    IMMUTABLE DATA TYPES:\n",
        "\n",
        "\n",
        "*   Data types in python where the value assigned to a variable cannot be changed.\n",
        "*  Example: X =( 2,3,4,5)\n",
        "            X (0) =1\n",
        "            show error: item assignment is not possible.\n",
        "\n",
        "\n",
        "\n",
        "\n",
        "\n",
        "\n"
      ],
      "metadata": {
        "id": "dVC9OJRJ1STk"
      }
    },
    {
      "cell_type": "markdown",
      "source": [
        "3. What are the main differences between lists and tuples in Python ?\n",
        "\n",
        "Ans>  List:\n",
        "\n",
        "  \n",
        "\n",
        "1.  Lists are mutable(can be modified).\n",
        "2.  Lists are better for performing operations, such as insertion and deletion.\n",
        "3. Lists have several built-in methods.\n",
        "4. It uses [] format to store data.\n",
        "\n",
        "     Tuples:\n",
        "\n",
        "1. Tuples are immutable(cannot be modified).\n",
        "2. Tuples are more suitable for accessing elements efficiently.\n",
        "3. Tuples have fewer built-in methods\n",
        "4. It uses () format to store data.\n",
        "\n",
        "\n"
      ],
      "metadata": {
        "id": "g0gXaMU35o3U"
      }
    },
    {
      "cell_type": "markdown",
      "source": [
        "4. Describe how dictionaries store data ?\n",
        "\n",
        "Ans> Dictionaries stores datain the form of Key & value pair. Keys are unique and immutable, whereas Values can store any type of data, accept special characters.\n",
        "\n",
        "  \n",
        "            "
      ],
      "metadata": {
        "id": "zbHssDgS8YRu"
      }
    },
    {
      "cell_type": "markdown",
      "source": [
        "5. Why might you use a set instead of a list in Python ?\n",
        "\n",
        "Ans> when the user desire to display an unordered collection of datas and also to eliminate the duplication of elements in data."
      ],
      "metadata": {
        "id": "7lKW88SY9oAN"
      }
    },
    {
      "cell_type": "markdown",
      "source": [
        "6. What is a string in Python, and how is it different from a list ?\n",
        "\n",
        "Ans> A string is a sequence of characters that can be a combination of letters, numbers, and special characters. It can be declared in python by using single quotes, double quotes, or even triple quotes.\n",
        "\n",
        "Strings are immutable object whereas List are mutable object.\n"
      ],
      "metadata": {
        "id": "YBwc06dL-RUt"
      }
    },
    {
      "cell_type": "markdown",
      "source": [
        " 7. How do tuples ensure data integrity in Python ?\n",
        "\n",
        " Ans> Tuples provide data integrity to ensure that the contents remain constant throughout the program's execution. It cannot changed the element strored as data."
      ],
      "metadata": {
        "id": "2ksG6vEhAZLg"
      }
    },
    {
      "cell_type": "markdown",
      "source": [
        "8.  What is a hash table, and how does it relate to dictionaries in Python ?\n",
        "\n",
        "Ans> A hash tableis a data structure that store data in key-value pairs. It uses a hash function to compute an index into an array of bucket, where the values are stored. This allows for fast retrieval, insertion and deletion of data.\n",
        "\n",
        "The keys in a python dictionary are hashed to determine where their corresponding values based on their keys."
      ],
      "metadata": {
        "id": "Pz5kJg6_BD85"
      }
    },
    {
      "cell_type": "markdown",
      "source": [
        "9. Can lists contain different data types in Python ?\n",
        "\n",
        "Ans> Yes, a list in python can contain elements of different data types. This means a single list can hole integers,floats,strings,booleans, and even other lists,tuples, or dictionaries."
      ],
      "metadata": {
        "id": "yS-_-ocjBqmX"
      }
    },
    {
      "cell_type": "markdown",
      "source": [
        "10. Explain why strings are immutable in Python ?\n",
        "\n",
        "Ans> As in \"strings\" values cannot be altered after creation. This characteristic is fundamental to how python handles string operations and offer efficiency, safety, and predictability. It allows for various optimization and ensures that string data remains consistent throughout a program's execution."
      ],
      "metadata": {
        "id": "YB2cxzVACdfG"
      }
    },
    {
      "cell_type": "markdown",
      "source": [
        "11. What advantages do dictionaries offer over lists for certain tasks ?\n",
        "\n",
        "Ans>  Dictionaries is more useful when the indexing is needed so that any search can be narrowed down and is less time consuming.  It is effective for quick retrieval or checking whether a key exist or not."
      ],
      "metadata": {
        "id": "LLuk_3dhDijt"
      }
    },
    {
      "cell_type": "markdown",
      "source": [
        "12. Describe a scenario where using a tuple would be preferable over a list ?\n",
        "\n",
        "Ans> We can prefer instead of a list when there is collection of items that should not be modified. Ruples are useful to ensure the data remains constant throughout the program, as it has immutable feature unlike list."
      ],
      "metadata": {
        "id": "qmAt4u3HFt4S"
      }
    },
    {
      "cell_type": "markdown",
      "source": [
        "13. How do sets handle duplicate values in Python ?\n",
        "\n",
        "Ans> In python, sets are designed to store only unique elements. if duplicate elements have been added in the set, then it will automatically discard the duplicate elements, and ensure that each data appears only once."
      ],
      "metadata": {
        "id": "R7hLVwexGf3j"
      }
    },
    {
      "cell_type": "markdown",
      "source": [
        "14. How does the “in” keyword work differently for lists and dictionaries ?\n",
        "\n",
        "Ans> \"in\" keyword will talk display whether something appears or not as a key in the dictionary. It returns two values True or False. For lists, it uses a search algorithm."
      ],
      "metadata": {
        "id": "7RZgukh2HJqU"
      }
    },
    {
      "cell_type": "markdown",
      "source": [
        "15. Can you modify the elements of a tuple? Explain why or why not ?\n",
        "\n",
        "Ans> No, tuples are immutable in Python. This means that once a tuple is created its elements cannot be changed, added or removed. The immutability of tuples makes them a fixed, unchangeable collection of items."
      ],
      "metadata": {
        "id": "BcOqQlMSJY6A"
      }
    },
    {
      "cell_type": "markdown",
      "source": [
        "16. What is a nested dictionary, and give an example of its use case ?\n",
        "\n",
        "Ans> Nesting Dictionary means putting a dictionary inside another dictionary.\n",
        "\n",
        " nested_dict = {\"dict1\": {'key_A': 'value_A'},\"dict2\": {'key_B': 'value_B'}}."
      ],
      "metadata": {
        "id": "XEPuL59EJzvU"
      }
    },
    {
      "cell_type": "markdown",
      "source": [
        "17. Describe the time complexity of accessing elements in a dictionary ?\n",
        "\n",
        "Ans> The time complexity of retrieving a value by its key in a dictionary is\n",
        " O(1). This is because dictionaries use a hash table internally which allows constant time lookup."
      ],
      "metadata": {
        "id": "Uv59hjOfKtzu"
      }
    },
    {
      "cell_type": "markdown",
      "source": [
        "18. In what situations are lists preferred over dictionaries ?\n",
        "\n",
        "Ans>\n",
        "\n",
        "     1. required ordered items having a defined order, which will not change.\n",
        "\n",
        "     2. Offers duplicate items.\n",
        "\n",
        "     3. when required for sorting."
      ],
      "metadata": {
        "id": "meP1ko4GMmpe"
      }
    },
    {
      "cell_type": "markdown",
      "source": [
        "19. Why are dictionaries considered unordered, and how does that affect data retrieval ?\n",
        "\n",
        "Ans>  Dictionaries are considered unordered because they do not store items in a specifc sequence based on isnsertion order. while new version new version of python(3.7+ ) maintain insertion order, they are still categorized as unordered because their primary purpose is fast key based access, not sequence based retrieval. this impacts data retrieval by making direct access by index impossible, as when iterating through a dictionary."
      ],
      "metadata": {
        "id": "kKAcRq4kOPck"
      }
    },
    {
      "cell_type": "markdown",
      "source": [
        "20  Explain the difference between a list and a dictionary in terms of data retrieval ?\n",
        "\n",
        "Ans> List : It is an ordered collection of data, where data retrieval occurs based on sequencing retrieval.\n",
        "\n",
        "dictionary: It is an unordered collection of data, based on key retrieval process."
      ],
      "metadata": {
        "id": "Pu6XIixdP7-9"
      }
    }
  ]
}