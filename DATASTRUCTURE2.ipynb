{
  "nbformat": 4,
  "nbformat_minor": 0,
  "metadata": {
    "colab": {
      "provenance": []
    },
    "kernelspec": {
      "name": "python3",
      "display_name": "Python 3"
    },
    "language_info": {
      "name": "python"
    }
  },
  "cells": [
    {
      "cell_type": "markdown",
      "source": [
        "# PRACTICAL QUESTIONS"
      ],
      "metadata": {
        "id": "1GktGWWmRSxi"
      }
    },
    {
      "cell_type": "code",
      "execution_count": null,
      "metadata": {
        "colab": {
          "base_uri": "https://localhost:8080/"
        },
        "id": "Gb_uzKr0RIlh",
        "outputId": "2b2f56ff-2f32-4f31-eab2-f78e81611434"
      },
      "outputs": [
        {
          "output_type": "stream",
          "name": "stdout",
          "text": [
            "My name is Pinki Rai\n"
          ]
        }
      ],
      "source": [
        "#1 Write a code to create a string with your name and print it ?\n",
        "\n",
        "name =\"Pinki Rai\"\n",
        "print(\"My name is\", name)"
      ]
    },
    {
      "cell_type": "code",
      "source": [
        "#2 Write a code to find the length of the string \"Hello World\" ?\n",
        "\n",
        "name_1 = \"Hello World\"\n",
        "print(\"The length of the string is\", len(name_1))"
      ],
      "metadata": {
        "colab": {
          "base_uri": "https://localhost:8080/"
        },
        "id": "P-Y0I3QtR-xD",
        "outputId": "c2a361d3-208e-4976-dcb3-3131e8729f52"
      },
      "execution_count": null,
      "outputs": [
        {
          "output_type": "stream",
          "name": "stdout",
          "text": [
            "The length of the string is 11\n"
          ]
        }
      ]
    },
    {
      "cell_type": "code",
      "source": [
        "#3 Write a code to slice the first 3 characters from the string \"Python Programming\" ?\n",
        "\n",
        "String_1 = \"Python Programming\"\n",
        "print(\" The string after sliced:\", String_1[0:3])\n"
      ],
      "metadata": {
        "colab": {
          "base_uri": "https://localhost:8080/"
        },
        "id": "cmjwyAMmSQPh",
        "outputId": "7116e4a3-104c-4b1c-999a-2db6c2a517da"
      },
      "execution_count": null,
      "outputs": [
        {
          "output_type": "stream",
          "name": "stdout",
          "text": [
            " The string after sliced: Pyt\n"
          ]
        }
      ]
    },
    {
      "cell_type": "code",
      "source": [
        "#4 Write a code to convert the string \"hello\" to uppercase ?\n",
        "\n",
        "String_2 = \"hello\"\n",
        "print(\"The string after converting to uppercase:\", String_2.upper())"
      ],
      "metadata": {
        "colab": {
          "base_uri": "https://localhost:8080/"
        },
        "id": "YMgEECLfSvdp",
        "outputId": "e4c6c9aa-a3b5-48a1-cdc3-559ed9aec7f6"
      },
      "execution_count": null,
      "outputs": [
        {
          "output_type": "stream",
          "name": "stdout",
          "text": [
            "The string after converting to uppercase: HELLO\n"
          ]
        }
      ]
    },
    {
      "cell_type": "code",
      "source": [
        "#5 Write a code to replace the word \"apple\" with \"orange\" in the string \"I like apple\" ?\n",
        "\n",
        "sentence = \"I like apple\"\n",
        "print(\"The string after replacing:\", sentence.replace(\"apple\", \"orange\"))"
      ],
      "metadata": {
        "colab": {
          "base_uri": "https://localhost:8080/"
        },
        "id": "6QPLn3BtTEBH",
        "outputId": "0e03891d-63ef-437d-f830-3dd4e2d6732c"
      },
      "execution_count": null,
      "outputs": [
        {
          "output_type": "stream",
          "name": "stdout",
          "text": [
            "The string after replacing: I like orange\n"
          ]
        }
      ]
    },
    {
      "cell_type": "code",
      "source": [
        "#6 Write a code to create a list with numbers 1 to 5 and print it ?\n",
        "\n",
        "List = [1,2,3,4,5]\n",
        "print(\"The list is:\", List)"
      ],
      "metadata": {
        "colab": {
          "base_uri": "https://localhost:8080/"
        },
        "id": "KkUGF2Y-T7Qd",
        "outputId": "c4bb8a12-f018-48ff-f7bc-23b919bbf357"
      },
      "execution_count": null,
      "outputs": [
        {
          "output_type": "stream",
          "name": "stdout",
          "text": [
            "The list is: [1, 2, 3, 4, 5]\n"
          ]
        }
      ]
    },
    {
      "cell_type": "code",
      "source": [
        "#7 Write a code to append the number 10 to the list [1, 2, 3, 4] ?\n",
        "\n",
        "Series = [1,2,3,4]\n",
        "Series.append(10)\n",
        "print(\"The list after appending:\", Series)\n"
      ],
      "metadata": {
        "colab": {
          "base_uri": "https://localhost:8080/"
        },
        "id": "ETO-55S-UGgP",
        "outputId": "4492739a-152d-40cd-d3fe-ac65df9d1018"
      },
      "execution_count": null,
      "outputs": [
        {
          "output_type": "stream",
          "name": "stdout",
          "text": [
            "The list after appending: [1, 2, 3, 4, 10]\n"
          ]
        }
      ]
    },
    {
      "cell_type": "code",
      "source": [
        "#8 Write a code to remove the number 3 from the list [1, 2, 3, 4, 5] ?\n",
        "\n",
        "List_1 =[1,2,3,4,5]\n",
        "List_1.remove(3)\n",
        "print(\"The list after removing:\", List_1)\n",
        "\n"
      ],
      "metadata": {
        "colab": {
          "base_uri": "https://localhost:8080/"
        },
        "id": "Pb8hvYf3UY5g",
        "outputId": "59fb7b01-dafa-4602-e6c7-c32b7afdab02"
      },
      "execution_count": null,
      "outputs": [
        {
          "output_type": "stream",
          "name": "stdout",
          "text": [
            "The list after removing: [1, 2, 4, 5]\n"
          ]
        }
      ]
    },
    {
      "cell_type": "code",
      "source": [
        "#9 Write a code to access the second element in the list ['a', 'b', 'c', 'd'] ?\n",
        "\n",
        "Alphabet = [\"a\",\"b\",\"c\",\"d\"]\n",
        "print(\" The second slement is:\", Alphabet[1])"
      ],
      "metadata": {
        "colab": {
          "base_uri": "https://localhost:8080/"
        },
        "id": "PUGc61IkUm-O",
        "outputId": "b53f063a-f6f5-47f7-9585-cf3797d5b2ef"
      },
      "execution_count": null,
      "outputs": [
        {
          "output_type": "stream",
          "name": "stdout",
          "text": [
            " The second slement is: b\n"
          ]
        }
      ]
    },
    {
      "cell_type": "code",
      "source": [
        "#10  Write a code to reverse the list [10, 20, 30, 40, 50] ?\n",
        "\n",
        "Num = [10,20,30,40,50]\n",
        "print(\"The list after reversing:\", Num[::-1])"
      ],
      "metadata": {
        "colab": {
          "base_uri": "https://localhost:8080/"
        },
        "id": "3seMRHiCVHjI",
        "outputId": "e6a76037-31be-4742-cf16-dbd04adcbdd3"
      },
      "execution_count": null,
      "outputs": [
        {
          "output_type": "stream",
          "name": "stdout",
          "text": [
            "The list after reversing: [50, 40, 30, 20, 10]\n"
          ]
        }
      ]
    },
    {
      "cell_type": "code",
      "source": [
        "#11 Write a code to create a tuple with the elements 100, 200, 300 and print it ?\n",
        "\n",
        "Tup_1 = (100,200,300)\n",
        "print(\"The tuple is:\", Tup_1)\n",
        "print(\"the type is:\",type(Tup_1))"
      ],
      "metadata": {
        "colab": {
          "base_uri": "https://localhost:8080/"
        },
        "id": "sZelzn3HVgqL",
        "outputId": "fde11cf7-1eed-4bd0-d1e8-0d779f670f8c"
      },
      "execution_count": null,
      "outputs": [
        {
          "output_type": "stream",
          "name": "stdout",
          "text": [
            "The tuple is: (100, 200, 300)\n",
            "the type is: <class 'tuple'>\n"
          ]
        }
      ]
    },
    {
      "cell_type": "code",
      "source": [
        "#12   Write a code to access the second-to-last element of the tuple ('red', 'green', 'blue', 'yellow') ?\n",
        "colour = (\"red\",\"grren\", \"blue\", \"yellow\")\n",
        "print(\"The second-to-last element is:\", colour[-2])\n"
      ],
      "metadata": {
        "colab": {
          "base_uri": "https://localhost:8080/"
        },
        "id": "m472LfkmV4qt",
        "outputId": "2a357a25-9d0e-40cd-a619-178355c0158d"
      },
      "execution_count": null,
      "outputs": [
        {
          "output_type": "stream",
          "name": "stdout",
          "text": [
            "The second-to-last element is: blue\n"
          ]
        }
      ]
    },
    {
      "cell_type": "code",
      "source": [
        "#13 Write a code to find the minimum number in the tuple (10, 20, 5, 15) ?\n",
        "\n",
        "Num_1 = (10,20,5,15)\n",
        "for num in Num_1:\n",
        "  if num == min(Num_1):\n",
        "    print(\"The minimum number is:\", num)"
      ],
      "metadata": {
        "colab": {
          "base_uri": "https://localhost:8080/"
        },
        "id": "fQwy3Gh5XgC-",
        "outputId": "1fcd6acc-e4fc-4378-8b27-7aa4aacb1dd8"
      },
      "execution_count": null,
      "outputs": [
        {
          "output_type": "stream",
          "name": "stdout",
          "text": [
            "The minimum number is: 5\n"
          ]
        }
      ]
    },
    {
      "cell_type": "code",
      "source": [
        "#14  Write a code to find the index of the element \"cat\" in the tuple ('dog', 'cat', 'rabbit') ?\n",
        "\n",
        "animal = (\"dog\",\"cat\",\"rabbit\")\n",
        "print(\"The index of the given element is:\", animal.index(\"cat\"))\n"
      ],
      "metadata": {
        "colab": {
          "base_uri": "https://localhost:8080/"
        },
        "id": "3RpO6mxKXoQw",
        "outputId": "7db6b83a-275a-42a6-d805-12f0ea3efb70"
      },
      "execution_count": null,
      "outputs": [
        {
          "output_type": "stream",
          "name": "stdout",
          "text": [
            "The index of the given element is: 1\n"
          ]
        }
      ]
    },
    {
      "cell_type": "code",
      "source": [
        "#15  Write a code to create a tuple containing three different fruits and check if \"kiwi\" is in it ?\n",
        "\n",
        "fruit_list = (\"banana\", \"apple\", \"kiwi\")\n",
        "for i in fruit_list:\n",
        "  if i == \"kiwi\":\n",
        "    print(\"It is there\")\n",
        "\n"
      ],
      "metadata": {
        "colab": {
          "base_uri": "https://localhost:8080/"
        },
        "id": "zA7_31bjY0Y2",
        "outputId": "cc95d1dc-8cbf-4fb4-91e1-f938f123a162"
      },
      "execution_count": null,
      "outputs": [
        {
          "output_type": "stream",
          "name": "stdout",
          "text": [
            "It is there\n"
          ]
        }
      ]
    },
    {
      "cell_type": "code",
      "source": [
        "#16  Write a code to create a set with the elements 'a', 'b', 'c' and print it ?\n",
        "\n",
        "Set_1 = {\"a\",\"b\",\"c\"}\n",
        "print(\"The set is:\", Set_1)\n",
        "print(\"The type is:\", type(Set_1))"
      ],
      "metadata": {
        "colab": {
          "base_uri": "https://localhost:8080/"
        },
        "id": "cJOBKYXNZ-QK",
        "outputId": "580f040d-fae7-411d-ae12-a7e63c8506c4"
      },
      "execution_count": null,
      "outputs": [
        {
          "output_type": "stream",
          "name": "stdout",
          "text": [
            "The set is: {'a', 'b', 'c'}\n",
            "The type is: <class 'set'>\n"
          ]
        }
      ]
    },
    {
      "cell_type": "code",
      "source": [
        "#17  Write a code to clear all elements from the set {1, 2, 3, 4, 5} ?\n",
        "\n",
        "series_1 ={1,2,3,4,5}\n",
        "series_1.clear()\n",
        "print(\"The set after clearing:\", series_1)\n"
      ],
      "metadata": {
        "colab": {
          "base_uri": "https://localhost:8080/"
        },
        "id": "9FdXp831aGlt",
        "outputId": "c7567998-8cd2-48a4-d5f7-175f108bb43b"
      },
      "execution_count": null,
      "outputs": [
        {
          "output_type": "stream",
          "name": "stdout",
          "text": [
            "The set after clearing: set()\n"
          ]
        }
      ]
    },
    {
      "cell_type": "code",
      "source": [
        "#18  Write a code to remove the element 4 from the set {1, 2, 3, 4} ?\n",
        "Num_series ={1,2,3,4}\n",
        "Num_series.remove(4)\n",
        "print(\"The set after removing:\", Num_series)\n"
      ],
      "metadata": {
        "colab": {
          "base_uri": "https://localhost:8080/"
        },
        "id": "o_sk4wwpaSnj",
        "outputId": "d5a402ce-d58c-4020-d66f-830fab23d0fd"
      },
      "execution_count": null,
      "outputs": [
        {
          "output_type": "stream",
          "name": "stdout",
          "text": [
            "The set after removing: {1, 2, 3}\n"
          ]
        }
      ]
    },
    {
      "cell_type": "code",
      "source": [
        "#19   Write a code to find the union of two sets {1, 2, 3} and {3, 4, 5} ?\n",
        "\n",
        "sets_1 ={1,2,3}\n",
        "sets_2 = {3,4,5}\n",
        "union_1 = sets_1 | sets_2\n",
        "print(\"The union of the two sets:\", union_1)"
      ],
      "metadata": {
        "colab": {
          "base_uri": "https://localhost:8080/"
        },
        "id": "N3oKnV39af77",
        "outputId": "2b923c09-b85a-4a0d-ecfe-e35adfd44d48"
      },
      "execution_count": null,
      "outputs": [
        {
          "output_type": "stream",
          "name": "stdout",
          "text": [
            "The union of the two sets: {1, 2, 3, 4, 5}\n"
          ]
        }
      ]
    },
    {
      "cell_type": "code",
      "source": [
        "#20   Write a code to find the intersection of two sets {1, 2, 3} and {2, 3, 4} ?\n",
        "sets_1 ={1,2,3}\n",
        "sets_2 = {2,3,4}\n",
        "inter_1 = sets_1 & sets_2\n",
        "print(\"The intersection of the two sets:\", inter_1)\n"
      ],
      "metadata": {
        "colab": {
          "base_uri": "https://localhost:8080/"
        },
        "id": "MjE2Rz2bbAh6",
        "outputId": "f28b64d9-5f64-405e-897d-be146101fa5a"
      },
      "execution_count": null,
      "outputs": [
        {
          "output_type": "stream",
          "name": "stdout",
          "text": [
            "The intersection of the two sets: {2, 3}\n"
          ]
        }
      ]
    },
    {
      "cell_type": "code",
      "source": [
        "#21  Write a code to create a dictionary with the keys \"name\", \"age\", and \"city\", and print it ?\n",
        "\n",
        "Detail = {\"name\": \"Pinki\", \"age\": 24, \"city\": \"siliguri\"}\n",
        "print(Detail)\n",
        "print(type(Detail))"
      ],
      "metadata": {
        "colab": {
          "base_uri": "https://localhost:8080/"
        },
        "id": "y2CEo7Y2bUJH",
        "outputId": "326b7836-1f6b-46a0-ef3d-ffd35cdf1c26"
      },
      "execution_count": null,
      "outputs": [
        {
          "output_type": "stream",
          "name": "stdout",
          "text": [
            "{'name': 'Pinki', 'age': 24, 'city': 'siliguri'}\n",
            "<class 'dict'>\n"
          ]
        }
      ]
    },
    {
      "cell_type": "code",
      "source": [
        "#22 Write a code to add a new key-value pair \"country\": \"USA\" to the dictionary {'name': 'John', 'age': 25} ?\n",
        "\n",
        "Detail_1 = {\"name\": \"John\", \"age\":25}\n",
        "Detail_1[\"country\"] = \"USA\"\n",
        "print(Detail_1)\n"
      ],
      "metadata": {
        "colab": {
          "base_uri": "https://localhost:8080/"
        },
        "id": "7oKLOx1BbvdT",
        "outputId": "fb7e9f2e-a330-4cb9-e269-2bf26e9bde3e"
      },
      "execution_count": null,
      "outputs": [
        {
          "output_type": "stream",
          "name": "stdout",
          "text": [
            "{'name': 'John', 'age': 25, 'country': 'USA'}\n"
          ]
        }
      ]
    },
    {
      "cell_type": "code",
      "source": [
        "#23  Write a code to access the value associated with the key \"name\" in the dictionary {'name': 'Alice', 'age': 30} ?\n",
        "\n",
        "A = {\"name\":\"Alice\", \"age\":30}\n",
        "A[\"name\"]\n",
        "\n"
      ],
      "metadata": {
        "colab": {
          "base_uri": "https://localhost:8080/",
          "height": 36
        },
        "id": "ORw-2uOcdKrO",
        "outputId": "1a20d497-2767-4280-aff1-e056548fa28c"
      },
      "execution_count": null,
      "outputs": [
        {
          "output_type": "execute_result",
          "data": {
            "text/plain": [
              "'Alice'"
            ],
            "application/vnd.google.colaboratory.intrinsic+json": {
              "type": "string"
            }
          },
          "metadata": {},
          "execution_count": 45
        }
      ]
    },
    {
      "cell_type": "code",
      "source": [
        "#24  Write a code to remove the key \"age\" from the dictionary {'name': 'Bob', 'age': 22, 'city': 'New York'} ?\n",
        "X = {\"name\":\"Bob\", \"age\":22, \"city\": \"New york\"}\n",
        "del X[\"age\"]\n",
        "print(X)\n"
      ],
      "metadata": {
        "colab": {
          "base_uri": "https://localhost:8080/"
        },
        "id": "j9FlpAlzdifq",
        "outputId": "25eee861-2b38-41eb-9f26-a17295687549"
      },
      "execution_count": null,
      "outputs": [
        {
          "output_type": "stream",
          "name": "stdout",
          "text": [
            "{'name': 'Bob', 'city': 'New york'}\n"
          ]
        }
      ]
    },
    {
      "cell_type": "code",
      "source": [
        "#25  Write a code to check if the key \"city\" exists in the dictionary {'name': 'Alice', 'city': 'Paris'} ?\n",
        "\n",
        "A = {\"name\":\"Alice\", \"city\":\"Paris\"}\n",
        "\")\n",
        "\n"
      ],
      "metadata": {
        "colab": {
          "base_uri": "https://localhost:8080/",
          "height": 211
        },
        "id": "r2YYu0I_eCY7",
        "outputId": "bfd8a552-13ad-4b5a-e4ee-f9f501812c7a"
      },
      "execution_count": null,
      "outputs": [
        {
          "output_type": "error",
          "ename": "TypeError",
          "evalue": "dict.keys() takes no arguments (1 given)",
          "traceback": [
            "\u001b[0;31m---------------------------------------------------------------------------\u001b[0m",
            "\u001b[0;31mTypeError\u001b[0m                                 Traceback (most recent call last)",
            "\u001b[0;32m<ipython-input-53-3099743390>\u001b[0m in \u001b[0;36m<cell line: 0>\u001b[0;34m()\u001b[0m\n\u001b[1;32m      3\u001b[0m \u001b[0mA\u001b[0m \u001b[0;34m=\u001b[0m \u001b[0;34m{\u001b[0m\u001b[0;34m\"name\"\u001b[0m\u001b[0;34m:\u001b[0m\u001b[0;34m\"Alice\"\u001b[0m\u001b[0;34m,\u001b[0m \u001b[0;34m\"city\"\u001b[0m\u001b[0;34m:\u001b[0m\u001b[0;34m\"Paris\"\u001b[0m\u001b[0;34m}\u001b[0m\u001b[0;34m\u001b[0m\u001b[0;34m\u001b[0m\u001b[0m\n\u001b[1;32m      4\u001b[0m \u001b[0;32mfor\u001b[0m \u001b[0mi\u001b[0m \u001b[0;32min\u001b[0m \u001b[0mA\u001b[0m\u001b[0;34m:\u001b[0m\u001b[0;34m\u001b[0m\u001b[0;34m\u001b[0m\u001b[0m\n\u001b[0;32m----> 5\u001b[0;31m   \u001b[0;32mif\u001b[0m \u001b[0mA\u001b[0m\u001b[0;34m.\u001b[0m\u001b[0mkeys\u001b[0m\u001b[0;34m(\u001b[0m\u001b[0;34m\"city\"\u001b[0m\u001b[0;34m)\u001b[0m \u001b[0;34m==\u001b[0m \u001b[0;34m\"city\"\u001b[0m\u001b[0;34m:\u001b[0m\u001b[0;34m\u001b[0m\u001b[0;34m\u001b[0m\u001b[0m\n\u001b[0m\u001b[1;32m      6\u001b[0m     \u001b[0mprint\u001b[0m\u001b[0;34m(\u001b[0m\u001b[0;34m\"true\"\u001b[0m\u001b[0;34m)\u001b[0m\u001b[0;34m\u001b[0m\u001b[0;34m\u001b[0m\u001b[0m\n\u001b[1;32m      7\u001b[0m \u001b[0;34m\u001b[0m\u001b[0m\n",
            "\u001b[0;31mTypeError\u001b[0m: dict.keys() takes no arguments (1 given)"
          ]
        }
      ]
    },
    {
      "cell_type": "code",
      "source": [
        "#25  Write a code to check if the key \"city\" exists in the dictionary {'name': 'Alice', 'city': 'Paris'} ?\n",
        "\n",
        "A = {\"name\":\"Alice\", \"city\": \"Paris\"}\n",
        "if \"city\" in A:\n",
        "  print(\"true\")\n"
      ],
      "metadata": {
        "colab": {
          "base_uri": "https://localhost:8080/"
        },
        "id": "BrOu_rVFfJ_k",
        "outputId": "5fe292a4-850a-4327-e26c-d00308d80b4e"
      },
      "execution_count": null,
      "outputs": [
        {
          "output_type": "stream",
          "name": "stdout",
          "text": [
            "true\n"
          ]
        }
      ]
    },
    {
      "cell_type": "code",
      "source": [
        "#26  Write a code to create a list, a tuple, and a dictionary, and print them all ?\n",
        "\n",
        "List_Num = [1,10,1.1,3+4j,\"List\",True]\n",
        "print(List_Num)\n",
        "Tuple_num = (1,2,3,4,1.1, \"tuple\",True)\n",
        "print(Tuple_num)\n",
        "Dit_num ={\"x\": 24,\"y\": 20}\n",
        "print(Dit_num)\n"
      ],
      "metadata": {
        "colab": {
          "base_uri": "https://localhost:8080/"
        },
        "id": "P1ydxRvxfq4g",
        "outputId": "ef101c37-2e69-47d0-d482-5e1c82891275"
      },
      "execution_count": null,
      "outputs": [
        {
          "output_type": "stream",
          "name": "stdout",
          "text": [
            "[1, 10, 1.1, (3+4j), 'List', True]\n",
            "(1, 2, 3, 4, 1.1, 'tuple', True)\n",
            "{'x': 24, 'y': 20}\n"
          ]
        }
      ]
    },
    {
      "cell_type": "code",
      "source": [
        "#27  Write a code to create a list of 5 random numbers between 1 and 100, sort it in ascending order, and print the\n",
        "#    result.(replaced) ?\n",
        "\n",
        "import random\n",
        "\n",
        "Number_1 = [random.randint(1,100) for _ in range(5)]\n",
        "print(Number_1)\n",
        "Number_1.sort()\n",
        "print(Number_1)\n",
        "\n",
        "\n"
      ],
      "metadata": {
        "colab": {
          "base_uri": "https://localhost:8080/"
        },
        "id": "OkJo3VRWgt0Q",
        "outputId": "4e46faa9-2129-4523-e7a4-bc77f19c0913"
      },
      "execution_count": null,
      "outputs": [
        {
          "output_type": "stream",
          "name": "stdout",
          "text": [
            "[11, 54, 85, 51, 47]\n",
            "[11, 47, 51, 54, 85]\n"
          ]
        }
      ]
    },
    {
      "cell_type": "code",
      "source": [
        "#28  Write a code to create a list with strings and print the element at the third index ?\n",
        "\n",
        "List_str = [\"songs\",\"dance\", \"instrument\", \"muse\", \"tune\"]\n",
        "print(\"The third index:\", List_str[3])"
      ],
      "metadata": {
        "colab": {
          "base_uri": "https://localhost:8080/"
        },
        "id": "cgTO5dLCjrbL",
        "outputId": "517ec6c8-df61-408b-bd06-cd08cc5fdc80"
      },
      "execution_count": null,
      "outputs": [
        {
          "output_type": "stream",
          "name": "stdout",
          "text": [
            "The third index: muse\n"
          ]
        }
      ]
    },
    {
      "cell_type": "code",
      "source": [
        "#29  Write a code to combine two dictionaries into one and print the result ?\n",
        "\n",
        "Dict_1 = {\"x\": 10,\"y\":20}\n",
        "Dict_2 = {\"z\":30,\"a\": 100}\n",
        "Mix_Dict = Dict_1 | Dict_2\n",
        "print(Mix_Dict)"
      ],
      "metadata": {
        "colab": {
          "base_uri": "https://localhost:8080/"
        },
        "id": "mmYQxX7Gka6I",
        "outputId": "42600204-a275-41a2-929b-908e30d892db"
      },
      "execution_count": null,
      "outputs": [
        {
          "output_type": "stream",
          "name": "stdout",
          "text": [
            "{'x': 10, 'y': 20, 'z': 30, 'a': 100}\n"
          ]
        }
      ]
    },
    {
      "cell_type": "code",
      "source": [
        "#30  Write a code to convert a list of strings into a set ?\n",
        "\n",
        "Name = \"EDUCATION\"\n",
        "print(Name)\n",
        "print(type(Name))\n",
        "Set_name = set(Name)\n",
        "print(Set_name)\n",
        "print(type(Set_name))\n"
      ],
      "metadata": {
        "colab": {
          "base_uri": "https://localhost:8080/"
        },
        "id": "xRkSI4aGlYUV",
        "outputId": "fdf2070a-85c2-4a5d-a30e-f4a9e68f54ba"
      },
      "execution_count": null,
      "outputs": [
        {
          "output_type": "stream",
          "name": "stdout",
          "text": [
            "EDUCATION\n",
            "<class 'str'>\n",
            "{'C', 'D', 'O', 'T', 'U', 'A', 'N', 'E', 'I'}\n",
            "<class 'set'>\n"
          ]
        }
      ]
    }
  ]
}