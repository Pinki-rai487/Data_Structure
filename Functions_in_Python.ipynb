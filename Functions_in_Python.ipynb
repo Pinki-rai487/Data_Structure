{
  "nbformat": 4,
  "nbformat_minor": 0,
  "metadata": {
    "colab": {
      "provenance": [],
      "include_colab_link": true
    },
    "kernelspec": {
      "name": "python3",
      "display_name": "Python 3"
    },
    "language_info": {
      "name": "python"
    }
  },
  "cells": [
    {
      "cell_type": "markdown",
      "metadata": {
        "id": "view-in-github",
        "colab_type": "text"
      },
      "source": [
        "<a href=\"https://colab.research.google.com/github/Pinki-rai487/Data_Structure/blob/main/Functions_in_Python.ipynb\" target=\"_parent\"><img src=\"https://colab.research.google.com/assets/colab-badge.svg\" alt=\"Open In Colab\"/></a>"
      ]
    },
    {
      "cell_type": "markdown",
      "source": [
        "Functions: Reusable code block that performs a specific task.\n",
        "\n",
        "Below is the syntax to define any user-defined functions:\n",
        "\n",
        "```python\n",
        "def function_name(parameters):\n",
        "  # function body: logic to define the functions\n",
        "\n",
        "\n",
        "# function calling\n",
        "function_name(arguments)\n",
        "```"
      ],
      "metadata": {
        "id": "9Okh0CS3Hkct"
      }
    },
    {
      "cell_type": "code",
      "execution_count": null,
      "metadata": {
        "colab": {
          "base_uri": "https://localhost:8080/"
        },
        "id": "o16wkU3kHJYO",
        "outputId": "71b4cf02-902f-4b39-8bc5-967db4e6335e"
      },
      "outputs": [
        {
          "output_type": "stream",
          "name": "stdout",
          "text": [
            "Hello, Priya Bhatia!\n"
          ]
        }
      ],
      "source": [
        "# function definition: user_name is a parameter\n",
        "def greet(user_name):\n",
        "  print(\"Hello, \" + user_name + \"!\")\n",
        "\n",
        "\n",
        "# function calling\n",
        "# 'Priya Bhatia' is an argument\n",
        "greet('Priya Bhatia')"
      ]
    },
    {
      "cell_type": "code",
      "source": [
        "greet('Sherya Agarwal')"
      ],
      "metadata": {
        "colab": {
          "base_uri": "https://localhost:8080/"
        },
        "id": "4-AqflEoIEsR",
        "outputId": "b0bce9c1-68ea-40b0-fdcf-3fbb272081d2"
      },
      "execution_count": null,
      "outputs": [
        {
          "output_type": "stream",
          "name": "stdout",
          "text": [
            "Hello, Sherya Agarwal!\n"
          ]
        }
      ]
    },
    {
      "cell_type": "markdown",
      "source": [
        "Default parameters"
      ],
      "metadata": {
        "id": "YuvQwmFMJFjv"
      }
    },
    {
      "cell_type": "code",
      "source": [
        "def my_function(a, b, c = 10):\n",
        "  return a + b - c\n",
        "\n",
        "result = my_function(20, 30, 5)\n",
        "print(result)"
      ],
      "metadata": {
        "colab": {
          "base_uri": "https://localhost:8080/"
        },
        "id": "6r0jRzyIINm1",
        "outputId": "f2b5dd5e-bfdb-44c0-97e8-723d9eb9cd4a"
      },
      "execution_count": null,
      "outputs": [
        {
          "output_type": "stream",
          "name": "stdout",
          "text": [
            "45\n"
          ]
        }
      ]
    },
    {
      "cell_type": "code",
      "source": [
        "result = my_function(20, 30)\n",
        "print(result)"
      ],
      "metadata": {
        "colab": {
          "base_uri": "https://localhost:8080/"
        },
        "id": "dNcbeidbJqxz",
        "outputId": "8d5b5f3c-ad40-4e34-b9b2-64ee2e5c4f62"
      },
      "execution_count": null,
      "outputs": [
        {
          "output_type": "stream",
          "name": "stdout",
          "text": [
            "40\n"
          ]
        }
      ]
    },
    {
      "cell_type": "code",
      "source": [
        "def calculate_result(x, y, z = 1, w = 5):\n",
        "  return x + y + z + w\n",
        "\n",
        "result = calculate_result(1, 2, w = 3)\n",
        "print(result)"
      ],
      "metadata": {
        "colab": {
          "base_uri": "https://localhost:8080/"
        },
        "id": "B-cd7MxYJ8WO",
        "outputId": "9c6d5945-a3f7-4428-f23f-18e1e62b41ea"
      },
      "execution_count": null,
      "outputs": [
        {
          "output_type": "stream",
          "name": "stdout",
          "text": [
            "7\n"
          ]
        }
      ]
    },
    {
      "cell_type": "markdown",
      "source": [
        "Incorrect usage of the default parameters"
      ],
      "metadata": {
        "id": "GqRittgXN23P"
      }
    },
    {
      "cell_type": "code",
      "source": [
        "def calculate_result(x = 1, y, z = 1, w = 5):\n",
        "  return x + y + z + w\n",
        "\n",
        "result = calculate_result(1, 2, w = 3)\n",
        "print(result)"
      ],
      "metadata": {
        "colab": {
          "base_uri": "https://localhost:8080/",
          "height": 106
        },
        "id": "cmEsxBi8Kuoh",
        "outputId": "c614c101-538c-4c65-dff0-fbab492aae03"
      },
      "execution_count": null,
      "outputs": [
        {
          "output_type": "error",
          "ename": "SyntaxError",
          "evalue": "non-default argument follows default argument (ipython-input-6-717157096.py, line 1)",
          "traceback": [
            "\u001b[0;36m  File \u001b[0;32m\"/tmp/ipython-input-6-717157096.py\"\u001b[0;36m, line \u001b[0;32m1\u001b[0m\n\u001b[0;31m    def calculate_result(x = 1, y, z = 1, w = 5):\u001b[0m\n\u001b[0m                                ^\u001b[0m\n\u001b[0;31mSyntaxError\u001b[0m\u001b[0;31m:\u001b[0m non-default argument follows default argument\n"
          ]
        }
      ]
    },
    {
      "cell_type": "markdown",
      "source": [
        "print vs return statement"
      ],
      "metadata": {
        "id": "k65p-X9BN6_j"
      }
    },
    {
      "cell_type": "code",
      "source": [
        "# function definition\n",
        "def add_with_print(a, b):\n",
        "  print('The sum is: ', a+b)\n",
        "\n",
        "def add_with_return(a, b):\n",
        "  return a + b\n",
        "\n",
        "# function calling\n",
        "add_with_print(3, 5)\n",
        "result = add_with_return(3, 5)\n",
        "print(\"The sum is: \", result)"
      ],
      "metadata": {
        "colab": {
          "base_uri": "https://localhost:8080/"
        },
        "id": "pOcQ7CjgMNjl",
        "outputId": "95d12140-c546-4d34-e464-59715d2567f2"
      },
      "execution_count": null,
      "outputs": [
        {
          "output_type": "stream",
          "name": "stdout",
          "text": [
            "The sum is:  8\n",
            "The sum is:  8\n"
          ]
        }
      ]
    },
    {
      "cell_type": "markdown",
      "source": [
        "Create the function `max_of_three(a, b, c)` and return the maximum out of these three values."
      ],
      "metadata": {
        "id": "N1IK07CDO136"
      }
    },
    {
      "cell_type": "code",
      "source": [
        "def max_of_three(a, b, c):\n",
        "    if a >= b and a >= c:\n",
        "        return a\n",
        "    elif b >= a and b >= c:\n",
        "        return b\n",
        "    else:\n",
        "        return c\n",
        "\n",
        "a, b, c = 10, 25, 2\n",
        "result = max_of_three(a, b, c)\n",
        "print(result)"
      ],
      "metadata": {
        "colab": {
          "base_uri": "https://localhost:8080/"
        },
        "id": "SW47lRtLOkQd",
        "outputId": "c21099bb-b83e-495d-e3bc-a0db0b7e3e08"
      },
      "execution_count": null,
      "outputs": [
        {
          "output_type": "stream",
          "name": "stdout",
          "text": [
            "25\n"
          ]
        }
      ]
    },
    {
      "cell_type": "markdown",
      "source": [
        "Create a function `calculate_total_cost(prices)` to evaluate the sum of the prices."
      ],
      "metadata": {
        "id": "TbPMpQQmP5Ul"
      }
    },
    {
      "cell_type": "code",
      "source": [
        "# function definition\n",
        "def calculate_total_price(cost_prices):\n",
        "  total = 0\n",
        "  for price in cost_prices:\n",
        "    total += price\n",
        "  return total\n",
        "\n",
        "# list containing the prices\n",
        "cost_prices = [10, 20, 30, 40]\n",
        "total = calculate_total_price(cost_prices)\n",
        "print(total)"
      ],
      "metadata": {
        "colab": {
          "base_uri": "https://localhost:8080/"
        },
        "id": "w_joBByjPvw2",
        "outputId": "2fa9c46a-2878-4bfb-c2fa-f751dd7c22b9"
      },
      "execution_count": null,
      "outputs": [
        {
          "output_type": "stream",
          "name": "stdout",
          "text": [
            "100\n"
          ]
        }
      ]
    },
    {
      "cell_type": "markdown",
      "source": [
        "Create a function `is_palindrome(n)` that returns whether the number is a palindrome or not."
      ],
      "metadata": {
        "id": "xuHWbmeEQnfc"
      }
    },
    {
      "cell_type": "code",
      "source": [
        "# function definition\n",
        "def is_palindromic(n):\n",
        "  str_n = str(n)\n",
        "  ## slicing operation only in the list/string data structure\n",
        "  return str_n == str_n[::-1]\n",
        "\n",
        "n = 12321\n",
        "# function calling\n",
        "is_palindromic(n)"
      ],
      "metadata": {
        "colab": {
          "base_uri": "https://localhost:8080/"
        },
        "id": "4doJDzN8QexI",
        "outputId": "c1d88112-c262-49cb-e975-3af64c3bbce5"
      },
      "execution_count": null,
      "outputs": [
        {
          "output_type": "execute_result",
          "data": {
            "text/plain": [
              "True"
            ]
          },
          "metadata": {},
          "execution_count": 11
        }
      ]
    },
    {
      "cell_type": "code",
      "source": [
        "n = 12345\n",
        "is_palindromic(n)"
      ],
      "metadata": {
        "colab": {
          "base_uri": "https://localhost:8080/"
        },
        "id": "lE-Klvg3Ro55",
        "outputId": "40f6c94e-9034-4133-fc13-bf6521877c9e"
      },
      "execution_count": null,
      "outputs": [
        {
          "output_type": "execute_result",
          "data": {
            "text/plain": [
              "False"
            ]
          },
          "metadata": {},
          "execution_count": 12
        }
      ]
    },
    {
      "cell_type": "markdown",
      "source": [
        "Create a function `is_armstrong(n)` to determine whether the given number is an armstrong number or not."
      ],
      "metadata": {
        "id": "W2sYCzMiTBj9"
      }
    },
    {
      "cell_type": "code",
      "source": [
        "def is_armstrong(n):\n",
        "  str_n = str(n)\n",
        "  num_digits = len(str_n)\n",
        "  # generator expression\n",
        "  sum_of_powers = sum(int(digit) ** num_digits for digit in str_n)\n",
        "  return sum_of_powers == n\n",
        "\n",
        "# function calling\n",
        "is_armstrong(370)"
      ],
      "metadata": {
        "colab": {
          "base_uri": "https://localhost:8080/"
        },
        "id": "iDNISMIDRski",
        "outputId": "50ed8dfe-b82a-4994-9b78-c085bd72bce9"
      },
      "execution_count": null,
      "outputs": [
        {
          "output_type": "execute_result",
          "data": {
            "text/plain": [
              "True"
            ]
          },
          "metadata": {},
          "execution_count": 13
        }
      ]
    },
    {
      "cell_type": "code",
      "source": [
        "is_armstrong(123)"
      ],
      "metadata": {
        "colab": {
          "base_uri": "https://localhost:8080/"
        },
        "id": "IsZ4Pj7eUDmS",
        "outputId": "e7488b01-e9ae-466e-9001-a99291b95625"
      },
      "execution_count": null,
      "outputs": [
        {
          "output_type": "execute_result",
          "data": {
            "text/plain": [
              "False"
            ]
          },
          "metadata": {},
          "execution_count": 14
        }
      ]
    },
    {
      "cell_type": "markdown",
      "source": [
        "List Comprehension: Equivalent using for loops"
      ],
      "metadata": {
        "id": "WK3pUvZNVEAT"
      }
    },
    {
      "cell_type": "code",
      "source": [
        "cube = [x**3 for x in range(5)]\n",
        "\n",
        "cube"
      ],
      "metadata": {
        "colab": {
          "base_uri": "https://localhost:8080/"
        },
        "id": "4MOiyOKNUFnl",
        "outputId": "fc0fe4c2-07a5-498a-ee44-ee997abfab4d"
      },
      "execution_count": null,
      "outputs": [
        {
          "output_type": "execute_result",
          "data": {
            "text/plain": [
              "[0, 1, 8, 27, 64]"
            ]
          },
          "metadata": {},
          "execution_count": 18
        }
      ]
    },
    {
      "cell_type": "code",
      "source": [
        "squares = []\n",
        "\n",
        "for x in range(5):\n",
        "  squares.append(x**2)\n",
        "\n",
        "print(squares)"
      ],
      "metadata": {
        "colab": {
          "base_uri": "https://localhost:8080/"
        },
        "id": "rVA9kl8aVMnp",
        "outputId": "c28e07c0-ef6c-4334-90e9-3a3c384f1173"
      },
      "execution_count": null,
      "outputs": [
        {
          "output_type": "stream",
          "name": "stdout",
          "text": [
            "[0, 1, 4, 9, 16]\n"
          ]
        }
      ]
    },
    {
      "cell_type": "markdown",
      "source": [
        "Create a function `sum_and_product(a, b)` used to calculate the sum and the product of the two numbers and return the result."
      ],
      "metadata": {
        "id": "0wCINrc-Wbtg"
      }
    },
    {
      "cell_type": "code",
      "source": [
        "def sum_and_product(a, b):\n",
        "  sum_result = a + b\n",
        "  product_result = a * b\n",
        "  return sum_result, product_result\n",
        "\n",
        "\n",
        "num1 = 10\n",
        "num2 = 20\n",
        "\n",
        "# return more than one result also in function calling\n",
        "sum_result, product_result = sum_and_product(num1, num2)\n",
        "print(sum_result)\n",
        "print(product_result)"
      ],
      "metadata": {
        "colab": {
          "base_uri": "https://localhost:8080/"
        },
        "id": "sjrNAz4eVybb",
        "outputId": "b59bc700-012c-4210-a465-0fd495a25add"
      },
      "execution_count": null,
      "outputs": [
        {
          "output_type": "stream",
          "name": "stdout",
          "text": [
            "30\n",
            "200\n"
          ]
        }
      ]
    },
    {
      "cell_type": "markdown",
      "source": [
        "Scope of the variables: It refers to the region where a variable is visible and can be easily accessed.\n",
        "\n",
        "1. Global Scope\n",
        "\n",
        "2. Local Scope"
      ],
      "metadata": {
        "id": "0Zf1T8mIX-gi"
      }
    },
    {
      "cell_type": "code",
      "source": [
        "x = 10 # global variable\n",
        "\n",
        "def my_function():\n",
        "  print(x)\n",
        "\n",
        "my_function()\n",
        "print(x)"
      ],
      "metadata": {
        "colab": {
          "base_uri": "https://localhost:8080/"
        },
        "id": "I-2hudgVXBhm",
        "outputId": "80d04728-6b9a-4514-982e-981f704623ed"
      },
      "execution_count": null,
      "outputs": [
        {
          "output_type": "stream",
          "name": "stdout",
          "text": [
            "10\n",
            "10\n"
          ]
        }
      ]
    },
    {
      "cell_type": "code",
      "source": [
        "def my_function():\n",
        "  y = 20 # local variable\n",
        "  print(y)\n",
        "\n",
        "my_function()\n",
        "print(y) # error -> access the local variable 'y'. And that's the main reason we are getting the error mentioned as 'y' is not defined"
      ],
      "metadata": {
        "colab": {
          "base_uri": "https://localhost:8080/",
          "height": 193
        },
        "id": "bzs5aXQ9YQBn",
        "outputId": "5de93791-f55f-4cf8-b44e-960153b8c0f4"
      },
      "execution_count": null,
      "outputs": [
        {
          "output_type": "stream",
          "name": "stdout",
          "text": [
            "20\n"
          ]
        },
        {
          "output_type": "error",
          "ename": "NameError",
          "evalue": "name 'y' is not defined",
          "traceback": [
            "\u001b[0;31m---------------------------------------------------------------------------\u001b[0m",
            "\u001b[0;31mNameError\u001b[0m                                 Traceback (most recent call last)",
            "\u001b[0;32m/tmp/ipython-input-23-4027698474.py\u001b[0m in \u001b[0;36m<cell line: 0>\u001b[0;34m()\u001b[0m\n\u001b[1;32m      4\u001b[0m \u001b[0;34m\u001b[0m\u001b[0m\n\u001b[1;32m      5\u001b[0m \u001b[0mmy_function\u001b[0m\u001b[0;34m(\u001b[0m\u001b[0;34m)\u001b[0m\u001b[0;34m\u001b[0m\u001b[0;34m\u001b[0m\u001b[0m\n\u001b[0;32m----> 6\u001b[0;31m \u001b[0mprint\u001b[0m\u001b[0;34m(\u001b[0m\u001b[0my\u001b[0m\u001b[0;34m)\u001b[0m\u001b[0;34m\u001b[0m\u001b[0;34m\u001b[0m\u001b[0m\n\u001b[0m",
            "\u001b[0;31mNameError\u001b[0m: name 'y' is not defined"
          ]
        }
      ]
    },
    {
      "cell_type": "markdown",
      "source": [
        "Methods: It is associated with the object or class."
      ],
      "metadata": {
        "id": "8xZ1wpUnZgQ4"
      }
    },
    {
      "cell_type": "code",
      "source": [
        "class Calculator:\n",
        "  def add(self, a, b):\n",
        "    return a + b\n",
        "\n",
        "calc = Calculator()\n",
        "result = calc.add(2, 3)\n",
        "print(result)"
      ],
      "metadata": {
        "colab": {
          "base_uri": "https://localhost:8080/"
        },
        "id": "y7BgMnCsYo9l",
        "outputId": "485ba6b4-0e20-46d5-911d-0327bf0c8497"
      },
      "execution_count": null,
      "outputs": [
        {
          "output_type": "stream",
          "name": "stdout",
          "text": [
            "5\n"
          ]
        }
      ]
    },
    {
      "cell_type": "code",
      "source": [],
      "metadata": {
        "id": "79G_OuIXaDFB"
      },
      "execution_count": null,
      "outputs": []
    }
  ]
}